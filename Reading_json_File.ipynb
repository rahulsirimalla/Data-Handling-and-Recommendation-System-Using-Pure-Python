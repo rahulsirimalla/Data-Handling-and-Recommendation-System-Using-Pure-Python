{
 "cells": [
  {
   "cell_type": "code",
   "execution_count": 1,
   "id": "9ab6a2e3-942a-41f0-b4af-83b15f0f1c8f",
   "metadata": {},
   "outputs": [],
   "source": [
    "import json"
   ]
  },
  {
   "cell_type": "code",
   "execution_count": 3,
   "id": "92860208-5227-4f43-a9b0-002060fcaae0",
   "metadata": {},
   "outputs": [],
   "source": [
    "def load_data(filename):\n",
    "    with open(filename, \"r\") as f:\n",
    "        data = json.load(f)\n",
    "        return data"
   ]
  },
  {
   "cell_type": "code",
   "execution_count": 9,
   "id": "505880d8-8913-4f2e-b8a8-8b39b2f77243",
   "metadata": {},
   "outputs": [
    {
     "name": "stdout",
     "output_type": "stream",
     "text": [
      "\n",
      "User and their Connections\n",
      "ID-1 Name:Rahul firends with ([2, 3]) and liked pages :[101]\n",
      "ID-2 Name:Kavya firends with ([1, 4]) and liked pages :[102]\n",
      "ID-3 Name:Indu firends with ([1]) and liked pages :[101, 103]\n",
      "ID-4 Name:Rukmi firends with ([2]) and liked pages :[104]\n",
      "\n",
      "Pages Information\n",
      "101 Python Developers\n",
      "102 Data Science Enthusiasts\n",
      "103 AI & ML Community\n",
      "104 Web Dev Hub\n"
     ]
    }
   ],
   "source": [
    "def display_users(data):\n",
    "    print(\"\\nUser and their Connections\")\n",
    "    for user in data[\"users\"]:\n",
    "        print(f\"ID-{user['id']} Name:{user['name']} firends with ({user['friends']}) and liked pages :{user['liked_pages']}\")\n",
    "\n",
    "    print(\"\\nPages Information\")\n",
    "    for page in data[\"pages\"]:\n",
    "        print(f\"{page['id']} {page['name']}\")\n",
    "\n",
    "data = load_data(\"data.json\")\n",
    "display_users(data)"
   ]
  },
  {
   "cell_type": "code",
   "execution_count": null,
   "id": "c751e385-9981-4e3b-a562-ea2b5417299c",
   "metadata": {},
   "outputs": [],
   "source": []
  }
 ],
 "metadata": {
  "kernelspec": {
   "display_name": "Python [conda env:base] *",
   "language": "python",
   "name": "conda-base-py"
  },
  "language_info": {
   "codemirror_mode": {
    "name": "ipython",
    "version": 3
   },
   "file_extension": ".py",
   "mimetype": "text/x-python",
   "name": "python",
   "nbconvert_exporter": "python",
   "pygments_lexer": "ipython3",
   "version": "3.12.7"
  }
 },
 "nbformat": 4,
 "nbformat_minor": 5
}
