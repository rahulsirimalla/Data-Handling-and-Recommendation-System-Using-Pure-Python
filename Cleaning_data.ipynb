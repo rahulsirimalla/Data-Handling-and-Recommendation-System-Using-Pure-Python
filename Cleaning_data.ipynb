{
 "cells": [
  {
   "cell_type": "code",
   "execution_count": 2,
   "id": "40583763-6f93-4a29-b525-b50bc5ec69ef",
   "metadata": {},
   "outputs": [],
   "source": [
    "import json"
   ]
  },
  {
   "cell_type": "code",
   "execution_count": 9,
   "id": "cff2a5d9-aef2-46a0-8dff-02aeb28c10c8",
   "metadata": {},
   "outputs": [],
   "source": [
    "def clean_data(data):\n",
    "    # Remove users with missing names\n",
    "    data[\"users\"] = [user for user in data[\"users\"] if user[\"name\"].strip()]\n",
    "    \n",
    "    # Remove duplicate friends\n",
    "    for user in data[\"users\"]:\n",
    "        user[\"friends\"] = list(set(user[\"friends\"]))\n",
    "    \n",
    "    # Remove inactive users\n",
    "    data[\"users\"] = [user for user in data[\"users\"] if user[\"friends\"] or user[\"liked_pages\"]]\n",
    "    \n",
    "    # Remove duplicate pages\n",
    "    unique_pages = {}\n",
    "    for page in data[\"pages\"]:\n",
    "        unique_pages[page[\"id\"]] = page\n",
    "    data[\"pages\"] = list(unique_pages.values())\n",
    "    \n",
    "    return data"
   ]
  },
  {
   "cell_type": "code",
   "execution_count": 11,
   "id": "bce7aa33-2a52-4052-8869-aebb133d0ac5",
   "metadata": {},
   "outputs": [
    {
     "name": "stdout",
     "output_type": "stream",
     "text": [
      "Data cleaned successfully!\n"
     ]
    }
   ],
   "source": [
    "# Load, clean, and display the cleaned data\n",
    "data = json.load(open(\"data2.json\"))\n",
    "data = clean_data(data)\n",
    "json.dump(data, open(\"cleaned_data.json\", \"w\"), indent=4)\n",
    "print(\"Data cleaned successfully!\")"
   ]
  },
  {
   "cell_type": "code",
   "execution_count": null,
   "id": "6a45603f-6ae7-4fd9-9851-c7057159a32c",
   "metadata": {},
   "outputs": [],
   "source": []
  }
 ],
 "metadata": {
  "kernelspec": {
   "display_name": "Python [conda env:base] *",
   "language": "python",
   "name": "conda-base-py"
  },
  "language_info": {
   "codemirror_mode": {
    "name": "ipython",
    "version": 3
   },
   "file_extension": ".py",
   "mimetype": "text/x-python",
   "name": "python",
   "nbconvert_exporter": "python",
   "pygments_lexer": "ipython3",
   "version": "3.12.7"
  }
 },
 "nbformat": 4,
 "nbformat_minor": 5
}
